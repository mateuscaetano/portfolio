{
 "cells": [
  {
   "cell_type": "code",
   "execution_count": null,
   "metadata": {},
   "outputs": [],
   "source": [
    "!pip install confluent-kafka"
   ]
  },
  {
   "cell_type": "code",
   "execution_count": 5,
   "metadata": {
    "vscode": {
     "languageId": "plaintext"
    }
   },
   "outputs": [
    {
     "name": "stdout",
     "output_type": "stream",
     "text": [
      "Sent data to Kafka topic 'test-topic': {'id': 3, 'name': 'Alice'}\n"
     ]
    }
   ],
   "source": [
    "from confluent_kafka import Producer\n",
    "import json\n",
    "\n",
    "def send_to_kafka(topic, data, kafka_server='kafka:9092'):\n",
    "    producer = Producer({'bootstrap.servers': kafka_server})\n",
    "    producer.produce(topic, value=json.dumps(data).encode('utf-8'))\n",
    "    producer.flush()\n",
    "\n",
    "topic = 'test-topic'\n",
    "data = {'id': 3, 'name': 'Alice'}\n",
    "\n",
    "send_to_kafka(topic, data)\n",
    "print(f\"Sent data to Kafka topic '{topic}': {data}\")\n"
   ]
  },
  {
   "cell_type": "code",
   "execution_count": null,
   "metadata": {},
   "outputs": [],
   "source": []
  }
 ],
 "metadata": {
  "kernelspec": {
   "display_name": "Python 3 (ipykernel)",
   "language": "python",
   "name": "python3"
  },
  "language_info": {
   "codemirror_mode": {
    "name": "ipython",
    "version": 3
   },
   "file_extension": ".py",
   "mimetype": "text/x-python",
   "name": "python",
   "nbconvert_exporter": "python",
   "pygments_lexer": "ipython3",
   "version": "3.11.6"
  }
 },
 "nbformat": 4,
 "nbformat_minor": 4
}
