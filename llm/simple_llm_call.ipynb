{
 "cells": [
  {
   "cell_type": "markdown",
   "metadata": {},
   "source": [
    "# Using the requests library"
   ]
  },
  {
   "cell_type": "code",
   "execution_count": 25,
   "metadata": {},
   "outputs": [
    {
     "name": "stdout",
     "output_type": "stream",
     "text": [
      "Response from API:\n",
      "{\n",
      "    \"choices\": [\n",
      "        {\n",
      "            \"text\": \" Sir Edward\"\n",
      "        }\n",
      "    ]\n",
      "}\n"
     ]
    }
   ],
   "source": [
    "import requests\n",
    "import json\n",
    "\n",
    "# Define the API endpoint\n",
    "url = \"http://localhost:5000/v1/completions\"\n",
    "\n",
    "# Define the payload (data to send to your custom API)\n",
    "payload = {\n",
    "    \"prompt\": \"Write a short story about a brave knight.\",\n",
    "    \"max_tokens\": 2,\n",
    "    \"temperature\": 0.7,\n",
    "    \"top_p\": 1.0\n",
    "}\n",
    "\n",
    "# Set the headers (optional, depending on your API setup)\n",
    "headers = {\n",
    "    \"Content-Type\": \"application/json\"\n",
    "}\n",
    "\n",
    "# Make a POST request to the custom API\n",
    "response = requests.post(url, headers=headers, data=json.dumps(payload))\n",
    "\n",
    "# Check the response\n",
    "if response.status_code == 200:\n",
    "    # Parse and print the response\n",
    "    print(\"Response from API:\")\n",
    "    print(json.dumps(response.json(), indent=4))\n",
    "else:\n",
    "    print(f\"Error: {response.status_code}\")\n",
    "    print(response.text)\n"
   ]
  },
  {
   "cell_type": "markdown",
   "metadata": {},
   "source": [
    "# Using the openai library"
   ]
  },
  {
   "cell_type": "code",
   "execution_count": 48,
   "metadata": {},
   "outputs": [
    {
     "name": "stdout",
     "output_type": "stream",
     "text": [
      "Response from custom API:\n",
      "Completion(id=None, choices=[CompletionChoice(finish_reason=None, index=None, logprobs=None, text=' The ocean is a vast')], created=None, model=None, object=None, system_fingerprint=None, usage=None)\n"
     ]
    }
   ],
   "source": [
    "from openai import OpenAI\n",
    "\n",
    "#Initialize the OpenAI Client pointing to the custom LLM server\n",
    "client = OpenAI(\n",
    "    api_key = 'test_api_key',\n",
    "    base_url = 'http://localhost:5000/v1'\n",
    ")\n",
    "\n",
    "# Make a call to your custom completions endpoint\n",
    "response = client.completions.create(\n",
    "    model=\"llama\",  \n",
    "    prompt=\"Can you write a short poem about the ocean?\",\n",
    "    max_tokens=5,\n",
    "    temperature=0.7\n",
    ")\n",
    "\n",
    "# Print the response\n",
    "print(\"Response from custom API:\")\n",
    "print(response)\n"
   ]
  },
  {
   "cell_type": "code",
   "execution_count": 49,
   "metadata": {},
   "outputs": [
    {
     "name": "stdout",
     "output_type": "stream",
     "text": [
      "Response from custom API:\n",
      "ChatCompletion(id=None, choices=[Choice(finish_reason=None, index=None, logprobs=None, message=ChatCompletionMessage(content=\"The ocean's waves crash\", refusal=None, role='assistant', audio=None, function_call=None, tool_calls=None))], created=None, model=None, object=None, service_tier=None, system_fingerprint=None, usage=None)\n"
     ]
    }
   ],
   "source": [
    "from openai import OpenAI\n",
    "\n",
    "#Initialize the OpenAI Client pointing to the custom LLM server\n",
    "client = OpenAI(\n",
    "    api_key = 'test_api_key',\n",
    "    base_url = 'http://localhost:5000/v1'\n",
    ")\n",
    "\n",
    "# Make a call to your custom completions endpoint\n",
    "response = client.chat.completions.create(\n",
    "    model=\"llama\",  \n",
    "    messages=[\n",
    "        {\"role\": \"system\", \"content\": \"You are a helpful assistant.\"},\n",
    "        {\"role\": \"user\", \"content\": \"Can you write a short poem about the ocean?\"}\n",
    "    ],\n",
    "    max_tokens=5,\n",
    "    temperature=0.7    \n",
    ")\n",
    "\n",
    "# Print the response\n",
    "print(\"Response from custom API:\")\n",
    "print(response)\n"
   ]
  },
  {
   "cell_type": "code",
   "execution_count": 50,
   "metadata": {},
   "outputs": [
    {
     "name": "stdout",
     "output_type": "stream",
     "text": [
      "assistant\n",
      "The ocean's waves crash\n"
     ]
    }
   ],
   "source": [
    "print(response.choices[0].message.role)\n",
    "print(response.choices[0].message.content)"
   ]
  }
 ],
 "metadata": {
  "interpreter": {
   "hash": "cd2dc10127bf30759828f5fe729cee770c399360c2b18b0c1478334c911a516f"
  },
  "kernelspec": {
   "display_name": "Python 3.10.11 ('.venv': venv)",
   "language": "python",
   "name": "python3"
  },
  "language_info": {
   "codemirror_mode": {
    "name": "ipython",
    "version": 3
   },
   "file_extension": ".py",
   "mimetype": "text/x-python",
   "name": "python",
   "nbconvert_exporter": "python",
   "pygments_lexer": "ipython3",
   "version": "3.10.11"
  },
  "orig_nbformat": 4
 },
 "nbformat": 4,
 "nbformat_minor": 2
}
