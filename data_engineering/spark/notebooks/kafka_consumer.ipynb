{
 "cells": [
  {
   "cell_type": "code",
   "execution_count": null,
   "metadata": {},
   "outputs": [],
   "source": [
    "!pip install confluent-kafka"
   ]
  },
  {
   "cell_type": "code",
   "execution_count": null,
   "metadata": {},
   "outputs": [],
   "source": [
    "from confluent_kafka import Consumer, KafkaException\n",
    "\n",
    "def consume_from_kafka(topic, kafka_server='kafka:9092'):\n",
    "    consumer = Consumer({\n",
    "        'bootstrap.servers': kafka_server,\n",
    "        'group.id': 'my-group',\n",
    "        'auto.offset.reset': 'earliest'\n",
    "    })\n",
    "    consumer.subscribe([topic])\n",
    "\n",
    "    try:\n",
    "        while True:\n",
    "            msg = consumer.poll(timeout=1.0)\n",
    "            if msg is None:\n",
    "                continue\n",
    "            if msg.error():\n",
    "                if msg.error().code() == KafkaError._PARTITION_EOF:\n",
    "                    break\n",
    "                else:\n",
    "                    raise KafkaException(msg.error())\n",
    "            print(f\"Consumed message from topic '{topic}': {msg.value().decode('utf-8')}\")\n",
    "    finally:\n",
    "        consumer.close()\n",
    "\n",
    "topic = 'test-topic'\n",
    "\n",
    "consume_from_kafka(topic)\n"
   ]
  }
 ],
 "metadata": {
  "kernelspec": {
   "display_name": "Python 3 (ipykernel)",
   "language": "python",
   "name": "python3"
  },
  "language_info": {
   "codemirror_mode": {
    "name": "ipython",
    "version": 3
   },
   "file_extension": ".py",
   "mimetype": "text/x-python",
   "name": "python",
   "nbconvert_exporter": "python",
   "pygments_lexer": "ipython3",
   "version": "3.11.6"
  }
 },
 "nbformat": 4,
 "nbformat_minor": 4
}
